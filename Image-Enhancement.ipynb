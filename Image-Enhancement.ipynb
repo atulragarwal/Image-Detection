{
 "cells": [
  {
   "cell_type": "code",
   "execution_count": 1,
   "id": "2f1a9a8e",
   "metadata": {},
   "outputs": [],
   "source": [
    "# import cv2 as cv\n",
    "import numpy as np\n",
    "from matplotlib import pyplot as plt\n",
    "import os\n",
    "from skimage.io import imread_collection\n",
    "from skimage import data, img_as_float, io, exposure\n",
    "import matplotlib\n",
    "from natsort import natsorted, ns\n",
    "import warnings\n",
    "warnings.simplefilter(\"ignore\")\n",
    "# from fastai.vision.all import *"
   ]
  },
  {
   "cell_type": "code",
   "execution_count": 2,
   "id": "cbdfc5e4",
   "metadata": {},
   "outputs": [],
   "source": [
    "# listFiles = os.listdir('train_v2')\n",
    "# listFiles = natsorted(listFiles)\n",
    "# allImages = []\n",
    "# for filename in listFiles:\n",
    "#     temp = os.path.join('train_v2',filename)\n",
    "#     allImages.append(io.imread(temp))"
   ]
  },
  {
   "cell_type": "code",
   "execution_count": 3,
   "id": "594d82cb",
   "metadata": {},
   "outputs": [],
   "source": [
    "from sklearn.model_selection import train_test_split\n",
    "import pandas as pd\n",
    "# train_names = [f for f in os.listdir(\"train_v2\")]\n",
    "train_names = [f for f in os.listdir(\"../IMAGE-PROCESSING-Main/train_v2\")]\n",
    "tr_n, val_n = train_test_split(train_names, test_size=0.05, random_state=42)\n",
    "\n",
    "# segmentation_df = pd.read_csv(os.path.join('./', './train_ship_segmentations_v2.csv'))\n",
    "segmentation_df = pd.read_csv(os.path.join('./', '../IMAGE-PROCESSING-Main/train_ship_segmentations_v2.csv'))"
   ]
  },
  {
   "cell_type": "code",
   "execution_count": 4,
   "id": "4a6a5add",
   "metadata": {},
   "outputs": [],
   "source": [
    "# segmentation_df"
   ]
  },
  {
   "cell_type": "code",
   "execution_count": 5,
   "id": "a6041917",
   "metadata": {},
   "outputs": [
    {
     "name": "stdout",
     "output_type": "stream",
     "text": [
      "42556\n"
     ]
    }
   ],
   "source": [
    "trainAllImages = set()\n",
    "# for i in range(len(segmentation_df)):\n",
    "#     temp = segmentation_df.loc[i][\"EncodedPixels\"]\n",
    "#     if(type(temp)==str):\n",
    "#         trainAllImages.append(segmentation_df.loc[i][\"ImageId\"])\n",
    "# print(trainAllImages[0])\n",
    "\n",
    "import math\n",
    "# newSeg = pd.read_csv(os.path.join(PATH, SEGMENTATION))\n",
    "# print(newSeg.iloc[0]['ImageId'])\n",
    "# segDict = dict()\n",
    "# print(newSeg.head)\n",
    "for i in range(len(segmentation_df)):\n",
    "    temp = segmentation_df.iloc[i]['EncodedPixels']\n",
    "    # print(temp)\n",
    "    if(type(temp)==str):\n",
    "        trainAllImages.add(segmentation_df.iloc[i]['ImageId'])\n",
    "print(len(trainAllImages))"
   ]
  },
  {
   "cell_type": "code",
   "execution_count": 6,
   "id": "cbb0d360",
   "metadata": {},
   "outputs": [],
   "source": [
    "# print(trainAllImages[1])"
   ]
  },
  {
   "cell_type": "code",
   "execution_count": 53,
   "id": "e5748395",
   "metadata": {
    "tags": []
   },
   "outputs": [
    {
     "ename": "IndexError",
     "evalue": "list index out of range",
     "output_type": "error",
     "traceback": [
      "\u001b[1;31m---------------------------------------------------------------------------\u001b[0m",
      "\u001b[1;31mIndexError\u001b[0m                                Traceback (most recent call last)",
      "Input \u001b[1;32mIn [53]\u001b[0m, in \u001b[0;36m<module>\u001b[1;34m\u001b[0m\n\u001b[0;32m      5\u001b[0m count2 \u001b[38;5;241m=\u001b[39m \u001b[38;5;241m42565\u001b[39m\n\u001b[0;32m      6\u001b[0m \u001b[38;5;28;01mfor\u001b[39;00m i \u001b[38;5;129;01min\u001b[39;00m \u001b[38;5;28mrange\u001b[39m(count, count2):\n\u001b[0;32m      7\u001b[0m     \u001b[38;5;66;03m# temp1 = os.path.join('train_v2',trainImages[i])\u001b[39;00m\n\u001b[1;32m----> 8\u001b[0m     temp1 \u001b[38;5;241m=\u001b[39m os\u001b[38;5;241m.\u001b[39mpath\u001b[38;5;241m.\u001b[39mjoin(\u001b[38;5;124m'\u001b[39m\u001b[38;5;124m../IMAGE-PROCESSING-Main/train_v2\u001b[39m\u001b[38;5;124m'\u001b[39m,\u001b[43mtrainImages\u001b[49m\u001b[43m[\u001b[49m\u001b[43mi\u001b[49m\u001b[43m]\u001b[49m)\n\u001b[0;32m      9\u001b[0m     tempImage \u001b[38;5;241m=\u001b[39m io\u001b[38;5;241m.\u001b[39mimread(temp1)\n\u001b[0;32m     10\u001b[0m     tempImage \u001b[38;5;241m=\u001b[39m transform\u001b[38;5;241m.\u001b[39mresize(tempImage,(\u001b[38;5;241m128\u001b[39m,\u001b[38;5;241m128\u001b[39m))\n",
      "\u001b[1;31mIndexError\u001b[0m: list index out of range"
     ]
    }
   ],
   "source": [
    "from skimage import transform\n",
    "trainImages = natsorted(trainAllImages)\n",
    "imagesList = []\n",
    "count = 42556\n",
    "count2 = 42565\n",
    "for i in range(count, count2):\n",
    "    # temp1 = os.path.join('train_v2',trainImages[i])\n",
    "    temp1 = os.path.join('../IMAGE-PROCESSING-Main/train_v2',trainImages[i])\n",
    "    tempImage = io.imread(temp1)\n",
    "    tempImage = transform.resize(tempImage,(128,128))\n",
    "#   allImages.append(io.imread(temp))\n",
    "    imagesList.append(tempImage)\n",
    "\n"
   ]
  },
  {
   "cell_type": "code",
   "execution_count": null,
   "id": "20998f8e",
   "metadata": {},
   "outputs": [],
   "source": [
    "len(imagesList)"
   ]
  },
  {
   "cell_type": "code",
   "execution_count": null,
   "id": "344838b8",
   "metadata": {},
   "outputs": [],
   "source": [
    "# print(imagesList[1])"
   ]
  },
  {
   "cell_type": "code",
   "execution_count": null,
   "id": "1deff72c",
   "metadata": {
    "tags": []
   },
   "outputs": [],
   "source": [
    "from skimage import filters\n",
    "smoothenedImages = []\n",
    "# smooothingResult = filters.gaussian(imagesList[1], sigma=1)\n",
    "# io.imshow(smooothingResult)\n",
    "for i in imagesList:\n",
    "    smoothingResult = filters.gaussian(i,sigma = 0.5)\n",
    "    smoothenedImages.append(smoothingResult)"
   ]
  },
  {
   "cell_type": "code",
   "execution_count": null,
   "id": "d0e28e5b",
   "metadata": {
    "tags": []
   },
   "outputs": [],
   "source": [
    "io.imshow(imagesList[1])"
   ]
  },
  {
   "cell_type": "code",
   "execution_count": null,
   "id": "72177097",
   "metadata": {},
   "outputs": [],
   "source": [
    "imagesEdges = []\n",
    "for i in smoothenedImages:\n",
    "    edgesResult = filters.sobel(i)\n",
    "    imagesEdges.append(edgesResult)\n",
    "    io.imsave(\"smoothened/{}\".format(trainImages[count]), edgesResult)\n",
    "    count+=1"
   ]
  },
  {
   "cell_type": "code",
   "execution_count": null,
   "id": "1fa996f5",
   "metadata": {},
   "outputs": [],
   "source": [
    "io.imshow(imagesEdges[1])"
   ]
  },
  {
   "cell_type": "code",
   "execution_count": null,
   "id": "2a3a2caa-3bcb-495d-b1b9-31fb423fd1c8",
   "metadata": {},
   "outputs": [],
   "source": []
  }
 ],
 "metadata": {
  "kernelspec": {
   "display_name": "Python 3 (ipykernel)",
   "language": "python",
   "name": "python3"
  },
  "language_info": {
   "codemirror_mode": {
    "name": "ipython",
    "version": 3
   },
   "file_extension": ".py",
   "mimetype": "text/x-python",
   "name": "python",
   "nbconvert_exporter": "python",
   "pygments_lexer": "ipython3",
   "version": "3.9.7"
  }
 },
 "nbformat": 4,
 "nbformat_minor": 5
}
