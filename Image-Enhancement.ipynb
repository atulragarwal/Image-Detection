{
 "cells": [
  {
   "cell_type": "code",
   "execution_count": 1,
   "id": "2f1a9a8e",
   "metadata": {},
   "outputs": [],
   "source": [
    "# import cv2 as cv\n",
    "import numpy as np\n",
    "from matplotlib import pyplot as plt\n",
    "import os\n",
    "from skimage.io import imread_collection\n",
    "from skimage import data, img_as_float, io, exposure\n",
    "import matplotlib\n",
    "from natsort import natsorted, ns\n",
    "# from fastai.vision.all import *"
   ]
  },
  {
   "cell_type": "code",
   "execution_count": 2,
   "id": "cbdfc5e4",
   "metadata": {},
   "outputs": [],
   "source": [
    "# listFiles = os.listdir('train_v2')\n",
    "# listFiles = natsorted(listFiles)\n",
    "# allImages = []\n",
    "# for filename in listFiles:\n",
    "#     temp = os.path.join('train_v2',filename)\n",
    "#     allImages.append(io.imread(temp))"
   ]
  },
  {
   "cell_type": "code",
   "execution_count": 3,
   "id": "594d82cb",
   "metadata": {},
   "outputs": [],
   "source": [
    "from sklearn.model_selection import train_test_split\n",
    "import pandas as pd\n",
    "train_names = [f for f in os.listdir(\"train_v2\")]\n",
    "tr_n, val_n = train_test_split(train_names, test_size=0.05, random_state=42)\n",
    "segmentation_df = pd.read_csv(os.path.join('./', './train_ship_segmentations_v2.csv'))"
   ]
  },
  {
   "cell_type": "code",
   "execution_count": 4,
   "id": "4a6a5add",
   "metadata": {},
   "outputs": [
    {
     "data": {
      "text/html": [
       "<div>\n",
       "<style scoped>\n",
       "    .dataframe tbody tr th:only-of-type {\n",
       "        vertical-align: middle;\n",
       "    }\n",
       "\n",
       "    .dataframe tbody tr th {\n",
       "        vertical-align: top;\n",
       "    }\n",
       "\n",
       "    .dataframe thead th {\n",
       "        text-align: right;\n",
       "    }\n",
       "</style>\n",
       "<table border=\"1\" class=\"dataframe\">\n",
       "  <thead>\n",
       "    <tr style=\"text-align: right;\">\n",
       "      <th></th>\n",
       "      <th>ImageId</th>\n",
       "      <th>EncodedPixels</th>\n",
       "    </tr>\n",
       "  </thead>\n",
       "  <tbody>\n",
       "    <tr>\n",
       "      <th>0</th>\n",
       "      <td>00003e153.jpg</td>\n",
       "      <td>NaN</td>\n",
       "    </tr>\n",
       "    <tr>\n",
       "      <th>1</th>\n",
       "      <td>0001124c7.jpg</td>\n",
       "      <td>NaN</td>\n",
       "    </tr>\n",
       "    <tr>\n",
       "      <th>2</th>\n",
       "      <td>000155de5.jpg</td>\n",
       "      <td>264661 17 265429 33 266197 33 266965 33 267733...</td>\n",
       "    </tr>\n",
       "    <tr>\n",
       "      <th>3</th>\n",
       "      <td>000194a2d.jpg</td>\n",
       "      <td>360486 1 361252 4 362019 5 362785 8 363552 10 ...</td>\n",
       "    </tr>\n",
       "    <tr>\n",
       "      <th>4</th>\n",
       "      <td>000194a2d.jpg</td>\n",
       "      <td>51834 9 52602 9 53370 9 54138 9 54906 9 55674 ...</td>\n",
       "    </tr>\n",
       "    <tr>\n",
       "      <th>...</th>\n",
       "      <td>...</td>\n",
       "      <td>...</td>\n",
       "    </tr>\n",
       "    <tr>\n",
       "      <th>231718</th>\n",
       "      <td>fffedbb6b.jpg</td>\n",
       "      <td>NaN</td>\n",
       "    </tr>\n",
       "    <tr>\n",
       "      <th>231719</th>\n",
       "      <td>ffff2aa57.jpg</td>\n",
       "      <td>NaN</td>\n",
       "    </tr>\n",
       "    <tr>\n",
       "      <th>231720</th>\n",
       "      <td>ffff6e525.jpg</td>\n",
       "      <td>NaN</td>\n",
       "    </tr>\n",
       "    <tr>\n",
       "      <th>231721</th>\n",
       "      <td>ffffc50b4.jpg</td>\n",
       "      <td>NaN</td>\n",
       "    </tr>\n",
       "    <tr>\n",
       "      <th>231722</th>\n",
       "      <td>ffffe97f3.jpg</td>\n",
       "      <td>NaN</td>\n",
       "    </tr>\n",
       "  </tbody>\n",
       "</table>\n",
       "<p>231723 rows × 2 columns</p>\n",
       "</div>"
      ],
      "text/plain": [
       "              ImageId                                      EncodedPixels\n",
       "0       00003e153.jpg                                                NaN\n",
       "1       0001124c7.jpg                                                NaN\n",
       "2       000155de5.jpg  264661 17 265429 33 266197 33 266965 33 267733...\n",
       "3       000194a2d.jpg  360486 1 361252 4 362019 5 362785 8 363552 10 ...\n",
       "4       000194a2d.jpg  51834 9 52602 9 53370 9 54138 9 54906 9 55674 ...\n",
       "...               ...                                                ...\n",
       "231718  fffedbb6b.jpg                                                NaN\n",
       "231719  ffff2aa57.jpg                                                NaN\n",
       "231720  ffff6e525.jpg                                                NaN\n",
       "231721  ffffc50b4.jpg                                                NaN\n",
       "231722  ffffe97f3.jpg                                                NaN\n",
       "\n",
       "[231723 rows x 2 columns]"
      ]
     },
     "execution_count": 4,
     "metadata": {},
     "output_type": "execute_result"
    }
   ],
   "source": [
    "segmentation_df"
   ]
  },
  {
   "cell_type": "code",
   "execution_count": 5,
   "id": "a6041917",
   "metadata": {},
   "outputs": [
    {
     "name": "stdout",
     "output_type": "stream",
     "text": [
      "000155de5.jpg\n"
     ]
    }
   ],
   "source": [
    "trainAllImages = []\n",
    "for i in range(len(segmentation_df)):\n",
    "    temp = segmentation_df.loc[i][\"EncodedPixels\"]\n",
    "    if(type(temp)==str):\n",
    "        trainAllImages.append(segmentation_df.loc[i][\"ImageId\"])\n",
    "print(trainAllImages[0])"
   ]
  },
  {
   "cell_type": "code",
   "execution_count": 6,
   "id": "cbb0d360",
   "metadata": {},
   "outputs": [
    {
     "name": "stdout",
     "output_type": "stream",
     "text": [
      "000194a2d.jpg\n"
     ]
    }
   ],
   "source": [
    "print(trainAllImages[1])"
   ]
  },
  {
   "cell_type": "code",
   "execution_count": 7,
   "id": "e5748395",
   "metadata": {},
   "outputs": [],
   "source": [
    "trainImages = natsorted(trainAllImages)\n",
    "imagesList = []\n",
    "count = 0\n",
    "for i in trainImages:\n",
    "    count+=1\n",
    "    temp1 = os.path.join('train_v2',i)\n",
    "#     allImages.append(io.imread(temp))\n",
    "    imagesList.append(io.imread(temp1))\n",
    "    if(count>1000):\n",
    "        break"
   ]
  },
  {
   "cell_type": "code",
   "execution_count": 8,
   "id": "20998f8e",
   "metadata": {},
   "outputs": [
    {
     "data": {
      "text/plain": [
       "1001"
      ]
     },
     "execution_count": 8,
     "metadata": {},
     "output_type": "execute_result"
    }
   ],
   "source": [
    "len(imagesList)"
   ]
  },
  {
   "cell_type": "code",
   "execution_count": 9,
   "id": "344838b8",
   "metadata": {},
   "outputs": [
    {
     "name": "stdout",
     "output_type": "stream",
     "text": [
      "[[[22 73 74]\n",
      "  [18 69 70]\n",
      "  [13 64 65]\n",
      "  ...\n",
      "  [21 72 73]\n",
      "  [21 72 73]\n",
      "  [21 72 73]]\n",
      "\n",
      " [[17 68 69]\n",
      "  [15 66 67]\n",
      "  [12 63 64]\n",
      "  ...\n",
      "  [22 73 74]\n",
      "  [21 72 73]\n",
      "  [21 72 73]]\n",
      "\n",
      " [[14 65 66]\n",
      "  [13 64 65]\n",
      "  [13 64 65]\n",
      "  ...\n",
      "  [21 72 73]\n",
      "  [20 71 72]\n",
      "  [19 70 71]]\n",
      "\n",
      " ...\n",
      "\n",
      " [[15 70 73]\n",
      "  [15 70 73]\n",
      "  [15 70 73]\n",
      "  ...\n",
      "  [18 81 90]\n",
      "  [18 81 90]\n",
      "  [17 80 89]]\n",
      "\n",
      " [[16 71 74]\n",
      "  [17 72 75]\n",
      "  [17 72 75]\n",
      "  ...\n",
      "  [15 78 87]\n",
      "  [18 81 90]\n",
      "  [19 82 91]]\n",
      "\n",
      " [[18 73 76]\n",
      "  [18 73 76]\n",
      "  [18 73 76]\n",
      "  ...\n",
      "  [13 76 85]\n",
      "  [16 79 88]\n",
      "  [19 82 91]]]\n"
     ]
    }
   ],
   "source": [
    "print(imagesList[1])"
   ]
  },
  {
   "cell_type": "code",
   "execution_count": 10,
   "id": "1deff72c",
   "metadata": {},
   "outputs": [
    {
     "name": "stderr",
     "output_type": "stream",
     "text": [
      "C:\\Users\\Atul\\AppData\\Local\\Temp/ipykernel_16824/2774407464.py:6: RuntimeWarning: Images with dimensions (M, N, 3) are interpreted as 2D+RGB by default. Use `multichannel=False` to interpret as 3D image with last dimension of length 3.\n",
      "  smoothingResult = filters.gaussian(i,sigma = 0.5)\n"
     ]
    },
    {
     "ename": "MemoryError",
     "evalue": "Unable to allocate 13.5 MiB for an array with shape (768, 768, 3) and data type float64",
     "output_type": "error",
     "traceback": [
      "\u001b[1;31m---------------------------------------------------------------------------\u001b[0m",
      "\u001b[1;31mMemoryError\u001b[0m                               Traceback (most recent call last)",
      "\u001b[1;32m~\\AppData\\Local\\Temp/ipykernel_16824/2774407464.py\u001b[0m in \u001b[0;36m<module>\u001b[1;34m\u001b[0m\n\u001b[0;32m      4\u001b[0m \u001b[1;31m# io.imshow(smooothingResult)\u001b[0m\u001b[1;33m\u001b[0m\u001b[1;33m\u001b[0m\u001b[0m\n\u001b[0;32m      5\u001b[0m \u001b[1;32mfor\u001b[0m \u001b[0mi\u001b[0m \u001b[1;32min\u001b[0m \u001b[0mimagesList\u001b[0m\u001b[1;33m:\u001b[0m\u001b[1;33m\u001b[0m\u001b[1;33m\u001b[0m\u001b[0m\n\u001b[1;32m----> 6\u001b[1;33m     \u001b[0msmoothingResult\u001b[0m \u001b[1;33m=\u001b[0m \u001b[0mfilters\u001b[0m\u001b[1;33m.\u001b[0m\u001b[0mgaussian\u001b[0m\u001b[1;33m(\u001b[0m\u001b[0mi\u001b[0m\u001b[1;33m,\u001b[0m\u001b[0msigma\u001b[0m \u001b[1;33m=\u001b[0m \u001b[1;36m0.5\u001b[0m\u001b[1;33m)\u001b[0m\u001b[1;33m\u001b[0m\u001b[1;33m\u001b[0m\u001b[0m\n\u001b[0m\u001b[0;32m      7\u001b[0m     \u001b[0msmoothenedImages\u001b[0m\u001b[1;33m.\u001b[0m\u001b[0mappend\u001b[0m\u001b[1;33m(\u001b[0m\u001b[0msmoothingResult\u001b[0m\u001b[1;33m)\u001b[0m\u001b[1;33m\u001b[0m\u001b[1;33m\u001b[0m\u001b[0m\n",
      "\u001b[1;32mD:\\Anaconda\\lib\\site-packages\\skimage\\filters\\_gaussian.py\u001b[0m in \u001b[0;36mgaussian\u001b[1;34m(image, sigma, output, mode, cval, multichannel, preserve_range, truncate)\u001b[0m\n\u001b[0;32m    119\u001b[0m     \u001b[0mimage\u001b[0m \u001b[1;33m=\u001b[0m \u001b[0mconvert_to_float\u001b[0m\u001b[1;33m(\u001b[0m\u001b[0mimage\u001b[0m\u001b[1;33m,\u001b[0m \u001b[0mpreserve_range\u001b[0m\u001b[1;33m)\u001b[0m\u001b[1;33m\u001b[0m\u001b[1;33m\u001b[0m\u001b[0m\n\u001b[0;32m    120\u001b[0m     \u001b[1;32mif\u001b[0m \u001b[0moutput\u001b[0m \u001b[1;32mis\u001b[0m \u001b[1;32mNone\u001b[0m\u001b[1;33m:\u001b[0m\u001b[1;33m\u001b[0m\u001b[1;33m\u001b[0m\u001b[0m\n\u001b[1;32m--> 121\u001b[1;33m         \u001b[0moutput\u001b[0m \u001b[1;33m=\u001b[0m \u001b[0mnp\u001b[0m\u001b[1;33m.\u001b[0m\u001b[0mempty_like\u001b[0m\u001b[1;33m(\u001b[0m\u001b[0mimage\u001b[0m\u001b[1;33m)\u001b[0m\u001b[1;33m\u001b[0m\u001b[1;33m\u001b[0m\u001b[0m\n\u001b[0m\u001b[0;32m    122\u001b[0m     \u001b[1;32melif\u001b[0m \u001b[1;32mnot\u001b[0m \u001b[0mnp\u001b[0m\u001b[1;33m.\u001b[0m\u001b[0missubdtype\u001b[0m\u001b[1;33m(\u001b[0m\u001b[0moutput\u001b[0m\u001b[1;33m.\u001b[0m\u001b[0mdtype\u001b[0m\u001b[1;33m,\u001b[0m \u001b[0mnp\u001b[0m\u001b[1;33m.\u001b[0m\u001b[0mfloating\u001b[0m\u001b[1;33m)\u001b[0m\u001b[1;33m:\u001b[0m\u001b[1;33m\u001b[0m\u001b[1;33m\u001b[0m\u001b[0m\n\u001b[0;32m    123\u001b[0m         \u001b[1;32mraise\u001b[0m \u001b[0mValueError\u001b[0m\u001b[1;33m(\u001b[0m\u001b[1;34m\"Provided output data type is not float\"\u001b[0m\u001b[1;33m)\u001b[0m\u001b[1;33m\u001b[0m\u001b[1;33m\u001b[0m\u001b[0m\n",
      "\u001b[1;32m<__array_function__ internals>\u001b[0m in \u001b[0;36mempty_like\u001b[1;34m(*args, **kwargs)\u001b[0m\n",
      "\u001b[1;31mMemoryError\u001b[0m: Unable to allocate 13.5 MiB for an array with shape (768, 768, 3) and data type float64"
     ]
    }
   ],
   "source": [
    "from skimage import filters\n",
    "smoothenedImages = []\n",
    "# smooothingResult = filters.gaussian(imagesList[1], sigma=1)\n",
    "# io.imshow(smooothingResult)\n",
    "for i in imagesList:\n",
    "    smoothingResult = filters.gaussian(i,sigma = 0.5)\n",
    "    smoothenedImages.append(smoothingResult)"
   ]
  },
  {
   "cell_type": "code",
   "execution_count": null,
   "id": "d0e28e5b",
   "metadata": {},
   "outputs": [],
   "source": [
    "io.imshow(imagesList[1])"
   ]
  },
  {
   "cell_type": "code",
   "execution_count": null,
   "id": "72177097",
   "metadata": {},
   "outputs": [],
   "source": [
    "imagesEdges = []\n",
    "for i in smoothenedImages:\n",
    "    edgesResult = filters.sobel(i,sigma = 0.5)\n",
    "    imagesEdges.append(edgesResult)"
   ]
  },
  {
   "cell_type": "code",
   "execution_count": null,
   "id": "1fa996f5",
   "metadata": {},
   "outputs": [],
   "source": []
  }
 ],
 "metadata": {
  "kernelspec": {
   "display_name": "Python 3 (ipykernel)",
   "language": "python",
   "name": "python3"
  },
  "language_info": {
   "codemirror_mode": {
    "name": "ipython",
    "version": 3
   },
   "file_extension": ".py",
   "mimetype": "text/x-python",
   "name": "python",
   "nbconvert_exporter": "python",
   "pygments_lexer": "ipython3",
   "version": "3.9.7"
  }
 },
 "nbformat": 4,
 "nbformat_minor": 5
}
